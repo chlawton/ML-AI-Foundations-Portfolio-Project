{
 "cells": [
  {
   "cell_type": "markdown",
   "id": "dad83b5d",
   "metadata": {},
   "source": [
    "In this notebook we'll do exploratory data analysis of a global per-capita Gross Domestic Product (GDP) dataset from 1970-2022, measured in US Dollars (USD)."
   ]
  },
  {
   "cell_type": "code",
   "execution_count": 1,
   "id": "beb38c6f",
   "metadata": {},
   "outputs": [],
   "source": [
    "#Import the necessary libraries\n",
    "import numpy as np\n",
    "import pandas as pd\n",
    "import matplotlib.pyplot as plt\n",
    "import seaborn as sns"
   ]
  },
  {
   "cell_type": "code",
   "execution_count": 2,
   "id": "cc06b913",
   "metadata": {},
   "outputs": [],
   "source": [
    "#You can find this data at (https://www.kaggle.com/datasets/dataanalyst001/per-capita-gdp-of-all-countries-1970-to-2022)\n",
    "file_path = r'C:\\Users\\chlaw\\OneDrive\\Documents\\GitHub\\project1\\gdp_data.csv'\n",
    "\n",
    "#Load our CSV file into Pandas\n",
    "data = pd.read_csv(file_path)"
   ]
  },
  {
   "cell_type": "markdown",
   "id": "caad6063",
   "metadata": {},
   "source": [
    "Inspect the elements of the dataset..."
   ]
  },
  {
   "cell_type": "code",
   "execution_count": 3,
   "id": "c53075f0",
   "metadata": {
    "scrolled": true
   },
   "outputs": [
    {
     "data": {
      "text/html": [
       "<div>\n",
       "<style scoped>\n",
       "    .dataframe tbody tr th:only-of-type {\n",
       "        vertical-align: middle;\n",
       "    }\n",
       "\n",
       "    .dataframe tbody tr th {\n",
       "        vertical-align: top;\n",
       "    }\n",
       "\n",
       "    .dataframe thead th {\n",
       "        text-align: right;\n",
       "    }\n",
       "</style>\n",
       "<table border=\"1\" class=\"dataframe\">\n",
       "  <thead>\n",
       "    <tr style=\"text-align: right;\">\n",
       "      <th></th>\n",
       "      <th>Sr.No</th>\n",
       "      <th>Country</th>\n",
       "      <th>1970</th>\n",
       "      <th>1971</th>\n",
       "      <th>1972</th>\n",
       "      <th>1973</th>\n",
       "      <th>1974</th>\n",
       "      <th>1975</th>\n",
       "      <th>1976</th>\n",
       "      <th>1977</th>\n",
       "      <th>...</th>\n",
       "      <th>2013</th>\n",
       "      <th>2014</th>\n",
       "      <th>2015</th>\n",
       "      <th>2016</th>\n",
       "      <th>2017</th>\n",
       "      <th>2018</th>\n",
       "      <th>2019</th>\n",
       "      <th>2020</th>\n",
       "      <th>2021</th>\n",
       "      <th>2022</th>\n",
       "    </tr>\n",
       "  </thead>\n",
       "  <tbody>\n",
       "    <tr>\n",
       "      <th>0</th>\n",
       "      <td>1</td>\n",
       "      <td>Afghanistan</td>\n",
       "      <td>162.642176</td>\n",
       "      <td>166.224832</td>\n",
       "      <td>141.365323</td>\n",
       "      <td>149.744069</td>\n",
       "      <td>181.598776</td>\n",
       "      <td>194.669036</td>\n",
       "      <td>205.674097</td>\n",
       "      <td>232.778698</td>\n",
       "      <td>...</td>\n",
       "      <td>631.060444</td>\n",
       "      <td>596.048898</td>\n",
       "      <td>554.004007</td>\n",
       "      <td>526.164709</td>\n",
       "      <td>534.020133</td>\n",
       "      <td>513.981256</td>\n",
       "      <td>512.910125</td>\n",
       "      <td>512.749930</td>\n",
       "      <td>378.082892</td>\n",
       "      <td>344.649112</td>\n",
       "    </tr>\n",
       "    <tr>\n",
       "      <th>1</th>\n",
       "      <td>2</td>\n",
       "      <td>Albania</td>\n",
       "      <td>974.554499</td>\n",
       "      <td>975.216820</td>\n",
       "      <td>976.521166</td>\n",
       "      <td>978.617771</td>\n",
       "      <td>981.265874</td>\n",
       "      <td>984.901966</td>\n",
       "      <td>989.749878</td>\n",
       "      <td>994.937066</td>\n",
       "      <td>...</td>\n",
       "      <td>4425.430822</td>\n",
       "      <td>4586.606188</td>\n",
       "      <td>3950.390255</td>\n",
       "      <td>4117.006970</td>\n",
       "      <td>4521.752217</td>\n",
       "      <td>5268.116608</td>\n",
       "      <td>5359.239078</td>\n",
       "      <td>5288.989573</td>\n",
       "      <td>6281.046775</td>\n",
       "      <td>6655.258391</td>\n",
       "    </tr>\n",
       "    <tr>\n",
       "      <th>2</th>\n",
       "      <td>3</td>\n",
       "      <td>Algeria</td>\n",
       "      <td>373.670080</td>\n",
       "      <td>380.125666</td>\n",
       "      <td>496.991248</td>\n",
       "      <td>624.193795</td>\n",
       "      <td>875.023948</td>\n",
       "      <td>989.243356</td>\n",
       "      <td>1075.725904</td>\n",
       "      <td>1225.090692</td>\n",
       "      <td>...</td>\n",
       "      <td>5519.777576</td>\n",
       "      <td>5516.229431</td>\n",
       "      <td>4197.417286</td>\n",
       "      <td>3967.200546</td>\n",
       "      <td>4134.936055</td>\n",
       "      <td>4171.795392</td>\n",
       "      <td>4021.983602</td>\n",
       "      <td>3354.157303</td>\n",
       "      <td>3700.320562</td>\n",
       "      <td>4273.922183</td>\n",
       "    </tr>\n",
       "    <tr>\n",
       "      <th>3</th>\n",
       "      <td>4</td>\n",
       "      <td>Andorra</td>\n",
       "      <td>5008.901637</td>\n",
       "      <td>5305.716707</td>\n",
       "      <td>6285.301526</td>\n",
       "      <td>7824.531307</td>\n",
       "      <td>9078.009005</td>\n",
       "      <td>10076.494834</td>\n",
       "      <td>9817.312977</td>\n",
       "      <td>10384.507961</td>\n",
       "      <td>...</td>\n",
       "      <td>44735.004774</td>\n",
       "      <td>45619.782548</td>\n",
       "      <td>38869.870777</td>\n",
       "      <td>39904.138181</td>\n",
       "      <td>40632.206416</td>\n",
       "      <td>42904.822583</td>\n",
       "      <td>41328.634079</td>\n",
       "      <td>37207.175636</td>\n",
       "      <td>42065.970756</td>\n",
       "      <td>42293.297081</td>\n",
       "    </tr>\n",
       "    <tr>\n",
       "      <th>4</th>\n",
       "      <td>5</td>\n",
       "      <td>Angola</td>\n",
       "      <td>631.514939</td>\n",
       "      <td>648.910896</td>\n",
       "      <td>644.659613</td>\n",
       "      <td>762.730111</td>\n",
       "      <td>827.378464</td>\n",
       "      <td>589.868220</td>\n",
       "      <td>547.946934</td>\n",
       "      <td>578.443953</td>\n",
       "      <td>...</td>\n",
       "      <td>5228.511165</td>\n",
       "      <td>5371.216648</td>\n",
       "      <td>4130.930080</td>\n",
       "      <td>3468.520268</td>\n",
       "      <td>4042.681382</td>\n",
       "      <td>3240.862207</td>\n",
       "      <td>2569.629757</td>\n",
       "      <td>1639.951023</td>\n",
       "      <td>2026.030952</td>\n",
       "      <td>3183.699796</td>\n",
       "    </tr>\n",
       "  </tbody>\n",
       "</table>\n",
       "<p>5 rows × 55 columns</p>\n",
       "</div>"
      ],
      "text/plain": [
       "   Sr.No      Country         1970         1971         1972         1973  \\\n",
       "0      1  Afghanistan   162.642176   166.224832   141.365323   149.744069   \n",
       "1      2      Albania   974.554499   975.216820   976.521166   978.617771   \n",
       "2      3      Algeria   373.670080   380.125666   496.991248   624.193795   \n",
       "3      4      Andorra  5008.901637  5305.716707  6285.301526  7824.531307   \n",
       "4      5       Angola   631.514939   648.910896   644.659613   762.730111   \n",
       "\n",
       "          1974          1975         1976          1977  ...          2013  \\\n",
       "0   181.598776    194.669036   205.674097    232.778698  ...    631.060444   \n",
       "1   981.265874    984.901966   989.749878    994.937066  ...   4425.430822   \n",
       "2   875.023948    989.243356  1075.725904   1225.090692  ...   5519.777576   \n",
       "3  9078.009005  10076.494834  9817.312977  10384.507961  ...  44735.004774   \n",
       "4   827.378464    589.868220   547.946934    578.443953  ...   5228.511165   \n",
       "\n",
       "           2014          2015          2016          2017          2018  \\\n",
       "0    596.048898    554.004007    526.164709    534.020133    513.981256   \n",
       "1   4586.606188   3950.390255   4117.006970   4521.752217   5268.116608   \n",
       "2   5516.229431   4197.417286   3967.200546   4134.936055   4171.795392   \n",
       "3  45619.782548  38869.870777  39904.138181  40632.206416  42904.822583   \n",
       "4   5371.216648   4130.930080   3468.520268   4042.681382   3240.862207   \n",
       "\n",
       "           2019          2020          2021          2022  \n",
       "0    512.910125    512.749930    378.082892    344.649112  \n",
       "1   5359.239078   5288.989573   6281.046775   6655.258391  \n",
       "2   4021.983602   3354.157303   3700.320562   4273.922183  \n",
       "3  41328.634079  37207.175636  42065.970756  42293.297081  \n",
       "4   2569.629757   1639.951023   2026.030952   3183.699796  \n",
       "\n",
       "[5 rows x 55 columns]"
      ]
     },
     "execution_count": 3,
     "metadata": {},
     "output_type": "execute_result"
    }
   ],
   "source": [
    "data.head()"
   ]
  },
  {
   "cell_type": "markdown",
   "id": "7a00c19a",
   "metadata": {},
   "source": [
    "Overall this looks like what we wanted, but it has an extra column \"Sr.No\" that we can discard."
   ]
  },
  {
   "cell_type": "code",
   "execution_count": 4,
   "id": "369971d6",
   "metadata": {},
   "outputs": [],
   "source": [
    "#Remove the unnecessary column \"Sr.No\"\n",
    "data.drop(columns=['Sr.No'], inplace=True)"
   ]
  },
  {
   "cell_type": "markdown",
   "id": "cdec28b3",
   "metadata": {},
   "source": [
    "Next we'll check the size of the dataset."
   ]
  },
  {
   "cell_type": "code",
   "execution_count": 5,
   "id": "52238185",
   "metadata": {},
   "outputs": [
    {
     "name": "stdout",
     "output_type": "stream",
     "text": [
      "There are 187 rows and 54 columns in our dataset.\n"
     ]
    }
   ],
   "source": [
    "row_count = data.shape[0]\n",
    "column_count = data.shape[1]\n",
    "print(f'There are {row_count} rows and {column_count} columns in our dataset.')"
   ]
  },
  {
   "cell_type": "markdown",
   "id": "9605c96d",
   "metadata": {},
   "source": [
    "We can proceed to inspect the data type of each column."
   ]
  },
  {
   "cell_type": "code",
   "execution_count": 6,
   "id": "e841f59f",
   "metadata": {},
   "outputs": [
    {
     "name": "stdout",
     "output_type": "stream",
     "text": [
      "<class 'pandas.core.frame.DataFrame'>\n",
      "RangeIndex: 187 entries, 0 to 186\n",
      "Data columns (total 54 columns):\n",
      " #   Column   Non-Null Count  Dtype  \n",
      "---  ------   --------------  -----  \n",
      " 0   Country  187 non-null    object \n",
      " 1   1970     187 non-null    float64\n",
      " 2   1971     187 non-null    float64\n",
      " 3   1972     187 non-null    float64\n",
      " 4   1973     187 non-null    float64\n",
      " 5   1974     187 non-null    float64\n",
      " 6   1975     187 non-null    float64\n",
      " 7   1976     187 non-null    float64\n",
      " 8   1977     187 non-null    float64\n",
      " 9   1978     187 non-null    float64\n",
      " 10  1979     187 non-null    float64\n",
      " 11  1980     187 non-null    float64\n",
      " 12  1981     187 non-null    float64\n",
      " 13  1982     187 non-null    float64\n",
      " 14  1983     187 non-null    float64\n",
      " 15  1984     187 non-null    float64\n",
      " 16  1985     187 non-null    float64\n",
      " 17  1986     187 non-null    float64\n",
      " 18  1987     187 non-null    float64\n",
      " 19  1988     187 non-null    float64\n",
      " 20  1989     187 non-null    float64\n",
      " 21  1990     187 non-null    float64\n",
      " 22  1991     182 non-null    float64\n",
      " 23  1992     182 non-null    float64\n",
      " 24  1993     182 non-null    float64\n",
      " 25  1994     181 non-null    float64\n",
      " 26  1995     181 non-null    float64\n",
      " 27  1996     181 non-null    float64\n",
      " 28  1997     181 non-null    float64\n",
      " 29  1998     181 non-null    float64\n",
      " 30  1999     181 non-null    float64\n",
      " 31  2000     181 non-null    float64\n",
      " 32  2001     181 non-null    float64\n",
      " 33  2002     181 non-null    float64\n",
      " 34  2003     181 non-null    float64\n",
      " 35  2004     181 non-null    float64\n",
      " 36  2005     181 non-null    float64\n",
      " 37  2006     181 non-null    float64\n",
      " 38  2007     181 non-null    float64\n",
      " 39  2008     181 non-null    float64\n",
      " 40  2009     181 non-null    float64\n",
      " 41  2010     181 non-null    float64\n",
      " 42  2011     180 non-null    float64\n",
      " 43  2012     180 non-null    float64\n",
      " 44  2013     179 non-null    float64\n",
      " 45  2014     179 non-null    float64\n",
      " 46  2015     179 non-null    float64\n",
      " 47  2016     179 non-null    float64\n",
      " 48  2017     179 non-null    float64\n",
      " 49  2018     179 non-null    float64\n",
      " 50  2019     179 non-null    float64\n",
      " 51  2020     179 non-null    float64\n",
      " 52  2021     179 non-null    float64\n",
      " 53  2022     179 non-null    float64\n",
      "dtypes: float64(53), object(1)\n",
      "memory usage: 79.0+ KB\n"
     ]
    }
   ],
   "source": [
    "data.info()"
   ]
  },
  {
   "cell_type": "markdown",
   "id": "67de3698",
   "metadata": {},
   "source": [
    "Each of the columns appears to have the correct data type assigned."
   ]
  },
  {
   "cell_type": "markdown",
   "id": "a5876d9b",
   "metadata": {},
   "source": [
    "How many countries have null/empty values anywhere in the data?"
   ]
  },
  {
   "cell_type": "code",
   "execution_count": 7,
   "id": "1647d4f6",
   "metadata": {},
   "outputs": [
    {
     "name": "stdout",
     "output_type": "stream",
     "text": [
      "There are 8 countries with missing data in this dataset.\n"
     ]
    }
   ],
   "source": [
    "#create a new dataframe of countries with null data, and reference its size\n",
    "countries_with_missing_data = data[data.isnull().any(axis=1)]\n",
    "print(f'There are {countries_with_missing_data.shape[0]} countries with missing data in this dataset.')"
   ]
  },
  {
   "cell_type": "markdown",
   "id": "35737d2f",
   "metadata": {},
   "source": [
    "Since we'll omit these countries from the analysis, let's record them in a list, for posterity."
   ]
  },
  {
   "cell_type": "code",
   "execution_count": 8,
   "id": "c15c8350",
   "metadata": {},
   "outputs": [
    {
     "name": "stdout",
     "output_type": "stream",
     "text": [
      "['Czechoslovakia (Former)' 'Ethiopia (Former)'\n",
      " 'Former Netherlands Antilles' 'Sudan (Former)' 'USSR (Former)'\n",
      " 'Yemen Arab Republic (Former)' 'Yemen Democratic (Former)'\n",
      " 'Yugoslavia (Former)']\n"
     ]
    }
   ],
   "source": [
    "omitted_countries = np.array(countries_with_missing_data['Country'])\n",
    "print(omitted_countries)"
   ]
  },
  {
   "cell_type": "markdown",
   "id": "93239d60",
   "metadata": {},
   "source": [
    "Proceed to remove the countries with missing data from the dataset."
   ]
  },
  {
   "cell_type": "code",
   "execution_count": 9,
   "id": "bec8e9a4",
   "metadata": {},
   "outputs": [],
   "source": [
    "data.dropna(inplace=True, ignore_index=True)"
   ]
  },
  {
   "cell_type": "markdown",
   "id": "c9ec300d",
   "metadata": {},
   "source": [
    "Which countries have the highest and lowest per capita GDP in 2022?"
   ]
  },
  {
   "cell_type": "code",
   "execution_count": 10,
   "id": "1a9381cf",
   "metadata": {},
   "outputs": [
    {
     "data": {
      "text/html": [
       "<div>\n",
       "<style scoped>\n",
       "    .dataframe tbody tr th:only-of-type {\n",
       "        vertical-align: middle;\n",
       "    }\n",
       "\n",
       "    .dataframe tbody tr th {\n",
       "        vertical-align: top;\n",
       "    }\n",
       "\n",
       "    .dataframe thead th {\n",
       "        text-align: right;\n",
       "    }\n",
       "</style>\n",
       "<table border=\"1\" class=\"dataframe\">\n",
       "  <thead>\n",
       "    <tr style=\"text-align: right;\">\n",
       "      <th></th>\n",
       "      <th>Country</th>\n",
       "      <th>1970</th>\n",
       "      <th>1971</th>\n",
       "      <th>1972</th>\n",
       "      <th>1973</th>\n",
       "      <th>1974</th>\n",
       "      <th>1975</th>\n",
       "      <th>1976</th>\n",
       "      <th>1977</th>\n",
       "      <th>1978</th>\n",
       "      <th>...</th>\n",
       "      <th>2013</th>\n",
       "      <th>2014</th>\n",
       "      <th>2015</th>\n",
       "      <th>2016</th>\n",
       "      <th>2017</th>\n",
       "      <th>2018</th>\n",
       "      <th>2019</th>\n",
       "      <th>2020</th>\n",
       "      <th>2021</th>\n",
       "      <th>2022</th>\n",
       "    </tr>\n",
       "  </thead>\n",
       "  <tbody>\n",
       "    <tr>\n",
       "      <th>108</th>\n",
       "      <td>Monaco</td>\n",
       "      <td>11706.408105</td>\n",
       "      <td>12907.451868</td>\n",
       "      <td>15647.128859</td>\n",
       "      <td>20160.375873</td>\n",
       "      <td>21632.94633</td>\n",
       "      <td>27057.417844</td>\n",
       "      <td>27514.584293</td>\n",
       "      <td>29922.630934</td>\n",
       "      <td>36521.05534</td>\n",
       "      <td>...</td>\n",
       "      <td>185001.79624</td>\n",
       "      <td>195511.394093</td>\n",
       "      <td>170270.150743</td>\n",
       "      <td>174294.01287</td>\n",
       "      <td>173611.784301</td>\n",
       "      <td>193968.166388</td>\n",
       "      <td>199382.781207</td>\n",
       "      <td>182537.304601</td>\n",
       "      <td>235132.745557</td>\n",
       "      <td>240535.043309</td>\n",
       "    </tr>\n",
       "  </tbody>\n",
       "</table>\n",
       "<p>1 rows × 54 columns</p>\n",
       "</div>"
      ],
      "text/plain": [
       "    Country          1970          1971          1972          1973  \\\n",
       "108  Monaco  11706.408105  12907.451868  15647.128859  20160.375873   \n",
       "\n",
       "            1974          1975          1976          1977         1978  ...  \\\n",
       "108  21632.94633  27057.417844  27514.584293  29922.630934  36521.05534  ...   \n",
       "\n",
       "             2013           2014           2015          2016           2017  \\\n",
       "108  185001.79624  195511.394093  170270.150743  174294.01287  173611.784301   \n",
       "\n",
       "              2018           2019           2020           2021           2022  \n",
       "108  193968.166388  199382.781207  182537.304601  235132.745557  240535.043309  \n",
       "\n",
       "[1 rows x 54 columns]"
      ]
     },
     "execution_count": 10,
     "metadata": {},
     "output_type": "execute_result"
    }
   ],
   "source": [
    "#First we'll look at the highest\n",
    "max_2022 = data[data['2022'] == data['2022'].max()]\n",
    "max_2022"
   ]
  },
  {
   "cell_type": "markdown",
   "id": "8799e030",
   "metadata": {},
   "source": [
    "Monaco has a per capita GDP of $250,535 as of 2022. Incredible!"
   ]
  },
  {
   "cell_type": "code",
   "execution_count": 11,
   "id": "f4eba06e",
   "metadata": {
    "scrolled": true
   },
   "outputs": [
    {
     "data": {
      "text/html": [
       "<div>\n",
       "<style scoped>\n",
       "    .dataframe tbody tr th:only-of-type {\n",
       "        vertical-align: middle;\n",
       "    }\n",
       "\n",
       "    .dataframe tbody tr th {\n",
       "        vertical-align: top;\n",
       "    }\n",
       "\n",
       "    .dataframe thead th {\n",
       "        text-align: right;\n",
       "    }\n",
       "</style>\n",
       "<table border=\"1\" class=\"dataframe\">\n",
       "  <thead>\n",
       "    <tr style=\"text-align: right;\">\n",
       "      <th></th>\n",
       "      <th>Country</th>\n",
       "      <th>1970</th>\n",
       "      <th>1971</th>\n",
       "      <th>1972</th>\n",
       "      <th>1973</th>\n",
       "      <th>1974</th>\n",
       "      <th>1975</th>\n",
       "      <th>1976</th>\n",
       "      <th>1977</th>\n",
       "      <th>1978</th>\n",
       "      <th>...</th>\n",
       "      <th>2013</th>\n",
       "      <th>2014</th>\n",
       "      <th>2015</th>\n",
       "      <th>2016</th>\n",
       "      <th>2017</th>\n",
       "      <th>2018</th>\n",
       "      <th>2019</th>\n",
       "      <th>2020</th>\n",
       "      <th>2021</th>\n",
       "      <th>2022</th>\n",
       "    </tr>\n",
       "  </thead>\n",
       "  <tbody>\n",
       "    <tr>\n",
       "      <th>27</th>\n",
       "      <td>Burundi</td>\n",
       "      <td>70.168159</td>\n",
       "      <td>70.494594</td>\n",
       "      <td>68.829523</td>\n",
       "      <td>85.537148</td>\n",
       "      <td>94.637389</td>\n",
       "      <td>110.655636</td>\n",
       "      <td>119.380471</td>\n",
       "      <td>138.319814</td>\n",
       "      <td>151.908048</td>\n",
       "      <td>...</td>\n",
       "      <td>241.549503</td>\n",
       "      <td>257.822931</td>\n",
       "      <td>262.001758</td>\n",
       "      <td>268.733291</td>\n",
       "      <td>295.620936</td>\n",
       "      <td>288.626394</td>\n",
       "      <td>283.66987</td>\n",
       "      <td>282.431058</td>\n",
       "      <td>298.170349</td>\n",
       "      <td>312.874378</td>\n",
       "    </tr>\n",
       "  </tbody>\n",
       "</table>\n",
       "<p>1 rows × 54 columns</p>\n",
       "</div>"
      ],
      "text/plain": [
       "    Country       1970       1971       1972       1973       1974  \\\n",
       "27  Burundi  70.168159  70.494594  68.829523  85.537148  94.637389   \n",
       "\n",
       "          1975        1976        1977        1978  ...        2013  \\\n",
       "27  110.655636  119.380471  138.319814  151.908048  ...  241.549503   \n",
       "\n",
       "          2014        2015        2016        2017        2018       2019  \\\n",
       "27  257.822931  262.001758  268.733291  295.620936  288.626394  283.66987   \n",
       "\n",
       "          2020        2021        2022  \n",
       "27  282.431058  298.170349  312.874378  \n",
       "\n",
       "[1 rows x 54 columns]"
      ]
     },
     "execution_count": 11,
     "metadata": {},
     "output_type": "execute_result"
    }
   ],
   "source": [
    "#Next we'll find the lowest\n",
    "min_2022 = data[data['2022'] == data['2022'].min()]\n",
    "min_2022"
   ]
  },
  {
   "cell_type": "markdown",
   "id": "a6bcc01e",
   "metadata": {},
   "source": [
    "Burundi has a per capita GDP of just $312 as of 2022."
   ]
  },
  {
   "cell_type": "markdown",
   "id": "bb589fe8",
   "metadata": {},
   "source": [
    "Let's make a plot of 2022 GDP data by country, in order to better understand the distribution."
   ]
  },
  {
   "cell_type": "code",
   "execution_count": 12,
   "id": "8ed68c68",
   "metadata": {},
   "outputs": [
    {
     "data": {
      "image/png": "[encoded data removed]",
      "text/plain": [
       "<Figure size 700x300 with 1 Axes>"
      ]
     },
     "metadata": {},
     "output_type": "display_data"
    }
   ],
   "source": [
    "plt.figure(figsize=(7,3))\n",
    "plt.hist(data['2022'], bins=179, color='blue', edgecolor='black')\n",
    "plt.axvline(data['2022'].mean(), color='red', label='Average GDP')\n",
    "plt.title('GDP by Country (2022)')\n",
    "plt.xlabel('Per Capita GDP')\n",
    "plt.ylabel('Number of Countries')\n",
    "plt.legend()\n",
    "plt.grid(True)\n",
    "plt.show()"
   ]
  },
  {
   "cell_type": "markdown",
   "id": "32b87747",
   "metadata": {},
   "source": [
    "It appears there are lots of countries at the low end of the distribution, and a few outliers with much higher economic output."
   ]
  },
  {
   "cell_type": "markdown",
   "id": "0a3062b3",
   "metadata": {},
   "source": [
    "Let's add a column to the dataset to calculate the total growth percentage each country experienced from 1970-2022."
   ]
  },
  {
   "cell_type": "code",
   "execution_count": 13,
   "id": "510dfd51",
   "metadata": {},
   "outputs": [
    {
     "data": {
      "text/html": [
       "<div>\n",
       "<style scoped>\n",
       "    .dataframe tbody tr th:only-of-type {\n",
       "        vertical-align: middle;\n",
       "    }\n",
       "\n",
       "    .dataframe tbody tr th {\n",
       "        vertical-align: top;\n",
       "    }\n",
       "\n",
       "    .dataframe thead th {\n",
       "        text-align: right;\n",
       "    }\n",
       "</style>\n",
       "<table border=\"1\" class=\"dataframe\">\n",
       "  <thead>\n",
       "    <tr style=\"text-align: right;\">\n",
       "      <th></th>\n",
       "      <th>Country</th>\n",
       "      <th>Total_Growth_Percent</th>\n",
       "    </tr>\n",
       "  </thead>\n",
       "  <tbody>\n",
       "    <tr>\n",
       "      <th>0</th>\n",
       "      <td>Afghanistan</td>\n",
       "      <td>111.91</td>\n",
       "    </tr>\n",
       "    <tr>\n",
       "      <th>1</th>\n",
       "      <td>Albania</td>\n",
       "      <td>582.90</td>\n",
       "    </tr>\n",
       "    <tr>\n",
       "      <th>2</th>\n",
       "      <td>Algeria</td>\n",
       "      <td>1043.77</td>\n",
       "    </tr>\n",
       "    <tr>\n",
       "      <th>3</th>\n",
       "      <td>Andorra</td>\n",
       "      <td>744.36</td>\n",
       "    </tr>\n",
       "    <tr>\n",
       "      <th>4</th>\n",
       "      <td>Angola</td>\n",
       "      <td>404.14</td>\n",
       "    </tr>\n",
       "    <tr>\n",
       "      <th>...</th>\n",
       "      <td>...</td>\n",
       "      <td>...</td>\n",
       "    </tr>\n",
       "    <tr>\n",
       "      <th>174</th>\n",
       "      <td>Vanuatu</td>\n",
       "      <td>590.34</td>\n",
       "    </tr>\n",
       "    <tr>\n",
       "      <th>175</th>\n",
       "      <td>Venezuela (Bolivarian Republic of)</td>\n",
       "      <td>274.25</td>\n",
       "    </tr>\n",
       "    <tr>\n",
       "      <th>176</th>\n",
       "      <td>Viet Nam</td>\n",
       "      <td>6190.63</td>\n",
       "    </tr>\n",
       "    <tr>\n",
       "      <th>177</th>\n",
       "      <td>Zambia</td>\n",
       "      <td>303.59</td>\n",
       "    </tr>\n",
       "    <tr>\n",
       "      <th>178</th>\n",
       "      <td>Zimbabwe</td>\n",
       "      <td>260.46</td>\n",
       "    </tr>\n",
       "  </tbody>\n",
       "</table>\n",
       "<p>179 rows × 2 columns</p>\n",
       "</div>"
      ],
      "text/plain": [
       "                                Country  Total_Growth_Percent\n",
       "0                           Afghanistan                111.91\n",
       "1                               Albania                582.90\n",
       "2                               Algeria               1043.77\n",
       "3                               Andorra                744.36\n",
       "4                                Angola                404.14\n",
       "..                                  ...                   ...\n",
       "174                             Vanuatu                590.34\n",
       "175  Venezuela (Bolivarian Republic of)                274.25\n",
       "176                            Viet Nam               6190.63\n",
       "177                              Zambia                303.59\n",
       "178                            Zimbabwe                260.46\n",
       "\n",
       "[179 rows x 2 columns]"
      ]
     },
     "execution_count": 13,
     "metadata": {},
     "output_type": "execute_result"
    }
   ],
   "source": [
    "data['Total_Growth_Percent'] = (((data['2022'] - data['1970']) / data['1970']) *100).round(2)\n",
    "data[['Country','Total_Growth_Percent']]"
   ]
  },
  {
   "cell_type": "markdown",
   "id": "b9992878",
   "metadata": {},
   "source": [
    "Next we can view a summary of descriptive statistics for the dataset."
   ]
  },
  {
   "cell_type": "code",
   "execution_count": 14,
   "id": "5b0c86ff",
   "metadata": {
    "scrolled": true
   },
   "outputs": [
    {
     "data": {
      "text/html": [
       "<div>\n",
       "<style scoped>\n",
       "    .dataframe tbody tr th:only-of-type {\n",
       "        vertical-align: middle;\n",
       "    }\n",
       "\n",
       "    .dataframe tbody tr th {\n",
       "        vertical-align: top;\n",
       "    }\n",
       "\n",
       "    .dataframe thead th {\n",
       "        text-align: right;\n",
       "    }\n",
       "</style>\n",
       "<table border=\"1\" class=\"dataframe\">\n",
       "  <thead>\n",
       "    <tr style=\"text-align: right;\">\n",
       "      <th></th>\n",
       "      <th>Country</th>\n",
       "      <th>1970</th>\n",
       "      <th>1971</th>\n",
       "      <th>1972</th>\n",
       "      <th>1973</th>\n",
       "      <th>1974</th>\n",
       "      <th>1975</th>\n",
       "      <th>1976</th>\n",
       "      <th>1977</th>\n",
       "      <th>1978</th>\n",
       "      <th>...</th>\n",
       "      <th>2014</th>\n",
       "      <th>2015</th>\n",
       "      <th>2016</th>\n",
       "      <th>2017</th>\n",
       "      <th>2018</th>\n",
       "      <th>2019</th>\n",
       "      <th>2020</th>\n",
       "      <th>2021</th>\n",
       "      <th>2022</th>\n",
       "      <th>Total_Growth_Percent</th>\n",
       "    </tr>\n",
       "  </thead>\n",
       "  <tbody>\n",
       "    <tr>\n",
       "      <th>count</th>\n",
       "      <td>179</td>\n",
       "      <td>179.000000</td>\n",
       "      <td>179.000000</td>\n",
       "      <td>179.000000</td>\n",
       "      <td>179.000000</td>\n",
       "      <td>179.000000</td>\n",
       "      <td>179.000000</td>\n",
       "      <td>179.000000</td>\n",
       "      <td>179.000000</td>\n",
       "      <td>179.000000</td>\n",
       "      <td>...</td>\n",
       "      <td>179.000000</td>\n",
       "      <td>179.000000</td>\n",
       "      <td>179.000000</td>\n",
       "      <td>179.000000</td>\n",
       "      <td>179.000000</td>\n",
       "      <td>179.000000</td>\n",
       "      <td>179.000000</td>\n",
       "      <td>179.000000</td>\n",
       "      <td>179.000000</td>\n",
       "      <td>179.000000</td>\n",
       "    </tr>\n",
       "    <tr>\n",
       "      <th>unique</th>\n",
       "      <td>179</td>\n",
       "      <td>NaN</td>\n",
       "      <td>NaN</td>\n",
       "      <td>NaN</td>\n",
       "      <td>NaN</td>\n",
       "      <td>NaN</td>\n",
       "      <td>NaN</td>\n",
       "      <td>NaN</td>\n",
       "      <td>NaN</td>\n",
       "      <td>NaN</td>\n",
       "      <td>...</td>\n",
       "      <td>NaN</td>\n",
       "      <td>NaN</td>\n",
       "      <td>NaN</td>\n",
       "      <td>NaN</td>\n",
       "      <td>NaN</td>\n",
       "      <td>NaN</td>\n",
       "      <td>NaN</td>\n",
       "      <td>NaN</td>\n",
       "      <td>NaN</td>\n",
       "      <td>NaN</td>\n",
       "    </tr>\n",
       "    <tr>\n",
       "      <th>top</th>\n",
       "      <td>Afghanistan</td>\n",
       "      <td>NaN</td>\n",
       "      <td>NaN</td>\n",
       "      <td>NaN</td>\n",
       "      <td>NaN</td>\n",
       "      <td>NaN</td>\n",
       "      <td>NaN</td>\n",
       "      <td>NaN</td>\n",
       "      <td>NaN</td>\n",
       "      <td>NaN</td>\n",
       "      <td>...</td>\n",
       "      <td>NaN</td>\n",
       "      <td>NaN</td>\n",
       "      <td>NaN</td>\n",
       "      <td>NaN</td>\n",
       "      <td>NaN</td>\n",
       "      <td>NaN</td>\n",
       "      <td>NaN</td>\n",
       "      <td>NaN</td>\n",
       "      <td>NaN</td>\n",
       "      <td>NaN</td>\n",
       "    </tr>\n",
       "    <tr>\n",
       "      <th>freq</th>\n",
       "      <td>1</td>\n",
       "      <td>NaN</td>\n",
       "      <td>NaN</td>\n",
       "      <td>NaN</td>\n",
       "      <td>NaN</td>\n",
       "      <td>NaN</td>\n",
       "      <td>NaN</td>\n",
       "      <td>NaN</td>\n",
       "      <td>NaN</td>\n",
       "      <td>NaN</td>\n",
       "      <td>...</td>\n",
       "      <td>NaN</td>\n",
       "      <td>NaN</td>\n",
       "      <td>NaN</td>\n",
       "      <td>NaN</td>\n",
       "      <td>NaN</td>\n",
       "      <td>NaN</td>\n",
       "      <td>NaN</td>\n",
       "      <td>NaN</td>\n",
       "      <td>NaN</td>\n",
       "      <td>NaN</td>\n",
       "    </tr>\n",
       "    <tr>\n",
       "      <th>mean</th>\n",
       "      <td>NaN</td>\n",
       "      <td>1095.867682</td>\n",
       "      <td>1215.069790</td>\n",
       "      <td>1413.657838</td>\n",
       "      <td>1773.882849</td>\n",
       "      <td>2243.912588</td>\n",
       "      <td>2464.297019</td>\n",
       "      <td>2659.810014</td>\n",
       "      <td>2930.199689</td>\n",
       "      <td>3304.730135</td>\n",
       "      <td>...</td>\n",
       "      <td>19389.855328</td>\n",
       "      <td>17510.426356</td>\n",
       "      <td>17654.065018</td>\n",
       "      <td>18470.677082</td>\n",
       "      <td>19556.597351</td>\n",
       "      <td>19378.379540</td>\n",
       "      <td>17893.779980</td>\n",
       "      <td>20454.420382</td>\n",
       "      <td>21213.009641</td>\n",
       "      <td>1925.650670</td>\n",
       "    </tr>\n",
       "    <tr>\n",
       "      <th>std</th>\n",
       "      <td>NaN</td>\n",
       "      <td>1500.424503</td>\n",
       "      <td>1672.183290</td>\n",
       "      <td>1988.410351</td>\n",
       "      <td>2556.275825</td>\n",
       "      <td>3383.944855</td>\n",
       "      <td>3850.175980</td>\n",
       "      <td>4225.936009</td>\n",
       "      <td>4657.322494</td>\n",
       "      <td>5095.497252</td>\n",
       "      <td>...</td>\n",
       "      <td>29297.366217</td>\n",
       "      <td>26149.778473</td>\n",
       "      <td>26398.826760</td>\n",
       "      <td>27265.450226</td>\n",
       "      <td>29029.398865</td>\n",
       "      <td>28746.558990</td>\n",
       "      <td>27266.242929</td>\n",
       "      <td>32313.750589</td>\n",
       "      <td>32925.369671</td>\n",
       "      <td>1868.082569</td>\n",
       "    </tr>\n",
       "    <tr>\n",
       "      <th>min</th>\n",
       "      <td>NaN</td>\n",
       "      <td>44.521365</td>\n",
       "      <td>47.939054</td>\n",
       "      <td>50.492965</td>\n",
       "      <td>56.515341</td>\n",
       "      <td>62.343096</td>\n",
       "      <td>71.074239</td>\n",
       "      <td>75.712074</td>\n",
       "      <td>77.457973</td>\n",
       "      <td>82.355693</td>\n",
       "      <td>...</td>\n",
       "      <td>257.822931</td>\n",
       "      <td>262.001758</td>\n",
       "      <td>268.733291</td>\n",
       "      <td>295.620936</td>\n",
       "      <td>288.626394</td>\n",
       "      <td>283.669870</td>\n",
       "      <td>282.431058</td>\n",
       "      <td>298.170349</td>\n",
       "      <td>312.874378</td>\n",
       "      <td>16.620000</td>\n",
       "    </tr>\n",
       "    <tr>\n",
       "      <th>25%</th>\n",
       "      <td>NaN</td>\n",
       "      <td>224.419626</td>\n",
       "      <td>238.050884</td>\n",
       "      <td>275.569911</td>\n",
       "      <td>339.492119</td>\n",
       "      <td>388.608500</td>\n",
       "      <td>419.166600</td>\n",
       "      <td>434.316151</td>\n",
       "      <td>483.263849</td>\n",
       "      <td>555.744376</td>\n",
       "      <td>...</td>\n",
       "      <td>2087.905584</td>\n",
       "      <td>2127.484188</td>\n",
       "      <td>2126.149482</td>\n",
       "      <td>2120.321972</td>\n",
       "      <td>2351.493347</td>\n",
       "      <td>2366.391819</td>\n",
       "      <td>2200.828660</td>\n",
       "      <td>2435.555445</td>\n",
       "      <td>2465.901217</td>\n",
       "      <td>754.340000</td>\n",
       "    </tr>\n",
       "    <tr>\n",
       "      <th>50%</th>\n",
       "      <td>NaN</td>\n",
       "      <td>456.141164</td>\n",
       "      <td>476.565736</td>\n",
       "      <td>560.263804</td>\n",
       "      <td>692.681596</td>\n",
       "      <td>869.604041</td>\n",
       "      <td>889.056832</td>\n",
       "      <td>900.504248</td>\n",
       "      <td>1033.105677</td>\n",
       "      <td>1173.577242</td>\n",
       "      <td>...</td>\n",
       "      <td>6959.839547</td>\n",
       "      <td>6228.426299</td>\n",
       "      <td>6163.861179</td>\n",
       "      <td>6705.339802</td>\n",
       "      <td>6947.818053</td>\n",
       "      <td>6955.881770</td>\n",
       "      <td>6327.598962</td>\n",
       "      <td>6635.463923</td>\n",
       "      <td>6984.216959</td>\n",
       "      <td>1449.520000</td>\n",
       "    </tr>\n",
       "    <tr>\n",
       "      <th>75%</th>\n",
       "      <td>NaN</td>\n",
       "      <td>1212.608199</td>\n",
       "      <td>1230.716925</td>\n",
       "      <td>1412.715352</td>\n",
       "      <td>1923.599204</td>\n",
       "      <td>2455.041626</td>\n",
       "      <td>2769.106401</td>\n",
       "      <td>2972.507461</td>\n",
       "      <td>3294.532143</td>\n",
       "      <td>3598.896781</td>\n",
       "      <td>...</td>\n",
       "      <td>24752.837664</td>\n",
       "      <td>23136.104683</td>\n",
       "      <td>23782.244659</td>\n",
       "      <td>25004.516355</td>\n",
       "      <td>26123.860763</td>\n",
       "      <td>26832.177371</td>\n",
       "      <td>22836.749167</td>\n",
       "      <td>25846.571854</td>\n",
       "      <td>29958.822758</td>\n",
       "      <td>2331.680000</td>\n",
       "    </tr>\n",
       "    <tr>\n",
       "      <th>max</th>\n",
       "      <td>NaN</td>\n",
       "      <td>11706.408105</td>\n",
       "      <td>12907.451868</td>\n",
       "      <td>15647.128859</td>\n",
       "      <td>20160.375873</td>\n",
       "      <td>23922.839175</td>\n",
       "      <td>27444.369312</td>\n",
       "      <td>31691.670308</td>\n",
       "      <td>35646.372841</td>\n",
       "      <td>36521.055340</td>\n",
       "      <td>...</td>\n",
       "      <td>195511.394093</td>\n",
       "      <td>170270.150743</td>\n",
       "      <td>174294.012870</td>\n",
       "      <td>173611.784301</td>\n",
       "      <td>193968.166388</td>\n",
       "      <td>199382.781207</td>\n",
       "      <td>182537.304601</td>\n",
       "      <td>235132.745557</td>\n",
       "      <td>240535.043309</td>\n",
       "      <td>11595.360000</td>\n",
       "    </tr>\n",
       "  </tbody>\n",
       "</table>\n",
       "<p>11 rows × 55 columns</p>\n",
       "</div>"
      ],
      "text/plain": [
       "            Country          1970          1971          1972          1973  \\\n",
       "count           179    179.000000    179.000000    179.000000    179.000000   \n",
       "unique          179           NaN           NaN           NaN           NaN   \n",
       "top     Afghanistan           NaN           NaN           NaN           NaN   \n",
       "freq              1           NaN           NaN           NaN           NaN   \n",
       "mean            NaN   1095.867682   1215.069790   1413.657838   1773.882849   \n",
       "std             NaN   1500.424503   1672.183290   1988.410351   2556.275825   \n",
       "min             NaN     44.521365     47.939054     50.492965     56.515341   \n",
       "25%             NaN    224.419626    238.050884    275.569911    339.492119   \n",
       "50%             NaN    456.141164    476.565736    560.263804    692.681596   \n",
       "75%             NaN   1212.608199   1230.716925   1412.715352   1923.599204   \n",
       "max             NaN  11706.408105  12907.451868  15647.128859  20160.375873   \n",
       "\n",
       "                1974          1975          1976          1977          1978  \\\n",
       "count     179.000000    179.000000    179.000000    179.000000    179.000000   \n",
       "unique           NaN           NaN           NaN           NaN           NaN   \n",
       "top              NaN           NaN           NaN           NaN           NaN   \n",
       "freq             NaN           NaN           NaN           NaN           NaN   \n",
       "mean     2243.912588   2464.297019   2659.810014   2930.199689   3304.730135   \n",
       "std      3383.944855   3850.175980   4225.936009   4657.322494   5095.497252   \n",
       "min        62.343096     71.074239     75.712074     77.457973     82.355693   \n",
       "25%       388.608500    419.166600    434.316151    483.263849    555.744376   \n",
       "50%       869.604041    889.056832    900.504248   1033.105677   1173.577242   \n",
       "75%      2455.041626   2769.106401   2972.507461   3294.532143   3598.896781   \n",
       "max     23922.839175  27444.369312  31691.670308  35646.372841  36521.055340   \n",
       "\n",
       "        ...           2014           2015           2016           2017  \\\n",
       "count   ...     179.000000     179.000000     179.000000     179.000000   \n",
       "unique  ...            NaN            NaN            NaN            NaN   \n",
       "top     ...            NaN            NaN            NaN            NaN   \n",
       "freq    ...            NaN            NaN            NaN            NaN   \n",
       "mean    ...   19389.855328   17510.426356   17654.065018   18470.677082   \n",
       "std     ...   29297.366217   26149.778473   26398.826760   27265.450226   \n",
       "min     ...     257.822931     262.001758     268.733291     295.620936   \n",
       "25%     ...    2087.905584    2127.484188    2126.149482    2120.321972   \n",
       "50%     ...    6959.839547    6228.426299    6163.861179    6705.339802   \n",
       "75%     ...   24752.837664   23136.104683   23782.244659   25004.516355   \n",
       "max     ...  195511.394093  170270.150743  174294.012870  173611.784301   \n",
       "\n",
       "                 2018           2019           2020           2021  \\\n",
       "count      179.000000     179.000000     179.000000     179.000000   \n",
       "unique            NaN            NaN            NaN            NaN   \n",
       "top               NaN            NaN            NaN            NaN   \n",
       "freq              NaN            NaN            NaN            NaN   \n",
       "mean     19556.597351   19378.379540   17893.779980   20454.420382   \n",
       "std      29029.398865   28746.558990   27266.242929   32313.750589   \n",
       "min        288.626394     283.669870     282.431058     298.170349   \n",
       "25%       2351.493347    2366.391819    2200.828660    2435.555445   \n",
       "50%       6947.818053    6955.881770    6327.598962    6635.463923   \n",
       "75%      26123.860763   26832.177371   22836.749167   25846.571854   \n",
       "max     193968.166388  199382.781207  182537.304601  235132.745557   \n",
       "\n",
       "                 2022  Total_Growth_Percent  \n",
       "count      179.000000            179.000000  \n",
       "unique            NaN                   NaN  \n",
       "top               NaN                   NaN  \n",
       "freq              NaN                   NaN  \n",
       "mean     21213.009641           1925.650670  \n",
       "std      32925.369671           1868.082569  \n",
       "min        312.874378             16.620000  \n",
       "25%       2465.901217            754.340000  \n",
       "50%       6984.216959           1449.520000  \n",
       "75%      29958.822758           2331.680000  \n",
       "max     240535.043309          11595.360000  \n",
       "\n",
       "[11 rows x 55 columns]"
      ]
     },
     "execution_count": 14,
     "metadata": {},
     "output_type": "execute_result"
    }
   ],
   "source": [
    "data.describe(include='all')"
   ]
  },
  {
   "cell_type": "code",
   "execution_count": 15,
   "id": "302231e7",
   "metadata": {},
   "outputs": [],
   "source": [
    "#calculate mean total growth\n",
    "mean_growth = data.Total_Growth_Percent.sum()/len(data.Total_Growth_Percent)"
   ]
  },
  {
   "cell_type": "markdown",
   "id": "5d300302",
   "metadata": {},
   "source": [
    "The average (mean) growth experienced by countries in our dataset from 1970-2022 is 1,925.65%\n",
    "The median growth amount is 1,449.52%."
   ]
  },
  {
   "cell_type": "code",
   "execution_count": 16,
   "id": "d4822314",
   "metadata": {},
   "outputs": [],
   "source": [
    "#calculate standard deviation of total growth\n",
    "standard_deviation_growth = data.Total_Growth_Percent.std()"
   ]
  },
  {
   "cell_type": "markdown",
   "id": "0109d023",
   "metadata": {},
   "source": [
    "The standard deviation of total growth percent is 1868.08. This is a large value relative to our mean of 1,925.65%, indicating a wide distribution of growth rates."
   ]
  },
  {
   "cell_type": "markdown",
   "id": "2679ce61",
   "metadata": {},
   "source": [
    "Let's plot the distribution of total growth percentage."
   ]
  },
  {
   "cell_type": "code",
   "execution_count": null,
   "id": "d6ac3e2b",
   "metadata": {},
   "outputs": [],
   "source": [
    "#First we'll make a histogram\n",
    "plt.figure(figsize=(7, 3))\n",
    "plt.hist(data['Total_Growth_Percent'], bins=179, color='blue', edgecolor='black')\n",
    "plt.axvline(mean_growth, color='red', label='Average Growth')\n",
    "plt.axvline(mean_growth + standard_deviation_growth, color='green', label='One Standard Deviation from the Average')\n",
    "plt.axvline(mean_growth - standard_deviation_growth, color='green')\n",
    "plt.title('Distribution of Total GDP Growth by Country')\n",
    "plt.xlabel('Total Growth Percent')\n",
    "plt.ylabel('Number of Countries')\n",
    "plt.legend()\n",
    "plt.grid(True)\n",
    "plt.show()"
   ]
  },
  {
   "cell_type": "code",
   "execution_count": null,
   "id": "f6817bcc",
   "metadata": {},
   "outputs": [],
   "source": [
    "#We'll also make a box plot of the same data\n",
    "sns.boxplot(data=data, x = 'Total_Growth_Percent')\n",
    "plt.title('Distribution of Total GDP Growth by Country')\n",
    "plt.axvline(mean_growth, color='red', label='Average Growth')\n",
    "plt.axvline(mean_growth + standard_deviation_growth, color='green', label='One Standard Deviation from the Average')\n",
    "plt.axvline(mean_growth - standard_deviation_growth, color='green')\n",
    "plt.xlabel('Total Growth Percent')\n",
    "plt.legend()\n",
    "plt.show()"
   ]
  },
  {
   "cell_type": "markdown",
   "id": "87d48b3b",
   "metadata": {},
   "source": [
    "Upon closer inspection, we see that the distribution is skewed right, due to the contributions of a handful of countries with dramatic growth rates."
   ]
  },
  {
   "cell_type": "markdown",
   "id": "2cde7aa0",
   "metadata": {},
   "source": [
    "Which country experienced the highest total growth during the period of 1970-2022?"
   ]
  },
  {
   "cell_type": "code",
   "execution_count": null,
   "id": "ebb5a48b",
   "metadata": {},
   "outputs": [],
   "source": [
    "sorted_by_growth = data.sort_values(by='Total_Growth_Percent', ignore_index=True, ascending=False)"
   ]
  },
  {
   "cell_type": "code",
   "execution_count": null,
   "id": "594b1282",
   "metadata": {
    "scrolled": true
   },
   "outputs": [],
   "source": [
    "sorted_by_growth[sorted_by_growth['Total_Growth_Percent'] == sorted_by_growth['Total_Growth_Percent'].max()][['Country', 'Total_Growth_Percent']]"
   ]
  },
  {
   "cell_type": "markdown",
   "id": "61bea999",
   "metadata": {},
   "source": [
    "South Korea's GDP increased by more than a hundred-fold during this time period, with a staggering total growth of 11,595.36%."
   ]
  },
  {
   "cell_type": "markdown",
   "id": "98c3de82",
   "metadata": {},
   "source": [
    "Which country experienced the lowest total growth during this period?"
   ]
  },
  {
   "cell_type": "code",
   "execution_count": null,
   "id": "e7b9a4f7",
   "metadata": {},
   "outputs": [],
   "source": [
    "sorted_by_growth[sorted_by_growth['Total_Growth_Percent'] == sorted_by_growth['Total_Growth_Percent'].min()][['Country', 'Total_Growth_Percent']]"
   ]
  },
  {
   "cell_type": "markdown",
   "id": "113eeee5",
   "metadata": {},
   "source": [
    "Mozambique's GDP increased by only 16.62% over a period of more than 50 years."
   ]
  },
  {
   "cell_type": "markdown",
   "id": "68b2ec98",
   "metadata": {},
   "source": [
    "Where does the US fall in this ranking?"
   ]
  },
  {
   "cell_type": "code",
   "execution_count": null,
   "id": "cddbb86b",
   "metadata": {},
   "outputs": [],
   "source": [
    "sorted_by_growth[sorted_by_growth.Country == 'United States'][['Country', 'Total_Growth_Percent']]"
   ]
  },
  {
   "cell_type": "markdown",
   "id": "12f0e430",
   "metadata": {},
   "source": [
    "Since the dataframe is zero-indexed, we see that the US ranked 99th in total growth percentage during this period."
   ]
  },
  {
   "cell_type": "markdown",
   "id": "83b8518b",
   "metadata": {},
   "source": [
    "Next let's find the which country had the biggest year of growth anywhere in the dataset."
   ]
  },
  {
   "cell_type": "code",
   "execution_count": null,
   "id": "094cb474",
   "metadata": {},
   "outputs": [],
   "source": [
    "#adjust columm names to be integer rather than string values\n",
    "sorted_by_growth.columns = [int(col) if col.isdigit() else col for col in sorted_by_growth.columns]\n",
    "\n",
    "years = list(range(1970, 2023))\n",
    "\n",
    "#create new dataframe containing year over year growth percentage data\n",
    "yoy_growth = sorted_by_growth[years].pct_change(axis=1) * 100\n",
    "\n",
    "#identify the largest growth value\n",
    "max_yoy = yoy_growth.max().max()"
   ]
  },
  {
   "cell_type": "code",
   "execution_count": null,
   "id": "0cf31132",
   "metadata": {},
   "outputs": [],
   "source": [
    "#merge country names into our YoY dataframe for readability\n",
    "yoy_growth = pd.concat([sorted_by_growth['Country'], yoy_growth], axis=1)"
   ]
  },
  {
   "cell_type": "markdown",
   "id": "849736be",
   "metadata": {},
   "source": [
    "Here we can see that Oman experienced the largest single-year growth."
   ]
  },
  {
   "cell_type": "code",
   "execution_count": null,
   "id": "15278ca6",
   "metadata": {},
   "outputs": [],
   "source": [
    "yoy_growth[yoy_growth.isin([max_yoy]).any(axis=1)]"
   ]
  },
  {
   "cell_type": "markdown",
   "id": "93cdb621",
   "metadata": {},
   "source": [
    "And below we can pinpoint that this occurred in 1974."
   ]
  },
  {
   "cell_type": "code",
   "execution_count": null,
   "id": "eba0c149",
   "metadata": {
    "scrolled": true
   },
   "outputs": [],
   "source": [
    "yoy_growth[yoy_growth.isin([max_yoy]).any(axis=1)][yoy_growth.isin([max_yoy])]"
   ]
  },
  {
   "cell_type": "markdown",
   "id": "7581f73a",
   "metadata": {},
   "source": [
    "228.94% growth in one year is pretty great!"
   ]
  },
  {
   "cell_type": "markdown",
   "id": "9014d330",
   "metadata": {},
   "source": [
    "We can also analyze the average year-over-year growth of countries in our dataset."
   ]
  },
  {
   "cell_type": "code",
   "execution_count": null,
   "id": "7c7a2566",
   "metadata": {},
   "outputs": [],
   "source": [
    "average_data_yoy = yoy_growth.iloc[:, 1:].mean()\n",
    "average_growth_yoy = average_data_yoy.mean()\n",
    "average_growth_yoy"
   ]
  },
  {
   "cell_type": "markdown",
   "id": "8f34b9c1",
   "metadata": {},
   "source": [
    "Countries in our dataset grew 6.14% on average each year between 1970-2022."
   ]
  },
  {
   "cell_type": "markdown",
   "id": "6e496908",
   "metadata": {},
   "source": [
    "Finally let's visualize the economic growth of the countries in our dataset over time."
   ]
  },
  {
   "cell_type": "markdown",
   "id": "71ed96dc",
   "metadata": {},
   "source": [
    "What does it look like if we graph all of the countries at once?"
   ]
  },
  {
   "cell_type": "code",
   "execution_count": null,
   "id": "345d36fb",
   "metadata": {},
   "outputs": [],
   "source": [
    "plt.figure(figsize=(7,3))\n",
    "for index, row in data.iterrows():\n",
    "    country_data = row.iloc[1:-1]\n",
    "    plt.plot(years, country_data, linestyle = '-', label = f'{row.Country}')\n",
    "\n",
    "plt.xlabel('Year')\n",
    "plt.ylabel('Per Capita GDP (USD)')\n",
    "plt.title(\"Global Overview of GDP\")\n",
    "plt.show()"
   ]
  },
  {
   "cell_type": "markdown",
   "id": "3d6a573c",
   "metadata": {},
   "source": [
    "That's a bit too messy. Let's just look at one country at a time for now, and compare it to the average of the dataset."
   ]
  },
  {
   "cell_type": "code",
   "execution_count": null,
   "id": "90894177",
   "metadata": {},
   "outputs": [],
   "source": [
    "#Calculate average GDP values per year\n",
    "average_data = data.iloc[:, 1:-1].mean()"
   ]
  },
  {
   "cell_type": "markdown",
   "id": "53339afa",
   "metadata": {},
   "source": [
    "Choose which country to examine below:"
   ]
  },
  {
   "cell_type": "code",
   "execution_count": null,
   "id": "67b94ea9",
   "metadata": {},
   "outputs": [],
   "source": [
    "country_name = \"Oman\""
   ]
  },
  {
   "cell_type": "markdown",
   "id": "ede164f4",
   "metadata": {},
   "source": [
    "First we'll plot the raw GDP values, and then follow up with year over year growth."
   ]
  },
  {
   "cell_type": "code",
   "execution_count": null,
   "id": "4ccec9ab",
   "metadata": {},
   "outputs": [],
   "source": [
    "#Select the data for our chosen country\n",
    "country_data_raw = data[data.Country == country_name].iloc[0, 1:-1]"
   ]
  },
  {
   "cell_type": "code",
   "execution_count": null,
   "id": "1ff283db",
   "metadata": {
    "scrolled": true
   },
   "outputs": [],
   "source": [
    "plt.figure(figsize=(7,3))\n",
    "plt.plot(years, country_data_raw, linestyle = '-', color = 'red', label = f'{country_name}')\n",
    "plt.plot(years, average_data, linestyle = '--', color = 'blue', label = 'Average')\n",
    "plt.title(f'{country_name} GDP')\n",
    "plt.xlabel('Year')\n",
    "plt.ylabel('Per Capita GDP (USD)')\n",
    "plt.legend(loc='best')\n",
    "plt.grid()\n",
    "plt.show()"
   ]
  },
  {
   "cell_type": "code",
   "execution_count": null,
   "id": "dbce8543",
   "metadata": {},
   "outputs": [],
   "source": [
    "country_data_yoy = yoy_growth[yoy_growth.Country == country_name].iloc[0, 1:]"
   ]
  },
  {
   "cell_type": "code",
   "execution_count": null,
   "id": "51625ffe",
   "metadata": {
    "scrolled": true
   },
   "outputs": [],
   "source": [
    "plt.figure(figsize=(7,3))\n",
    "plt.plot(years, country_data_yoy, linestyle = '-', color = 'red', label = f'{country_name}')\n",
    "plt.plot(years, average_data_yoy, linestyle = '--', color = 'blue', label = 'Average')\n",
    "plt.title(f'{country_name} GDP Growth Year Over Year')\n",
    "plt.xlabel('Year')\n",
    "plt.ylabel('Growth (%)')\n",
    "plt.legend(loc='best')\n",
    "plt.grid()\n",
    "plt.show()"
   ]
  },
  {
   "cell_type": "markdown",
   "id": "8d7da3c6",
   "metadata": {},
   "source": [
    "Conclusion"
   ]
  },
  {
   "cell_type": "markdown",
   "id": "8886e0a5",
   "metadata": {},
   "source": [
    "In this project we demonstrated application of many skills introduced in the Codecademy ML/AI Foundations Skill Path, including data preparation, modification, statistical analysis, and several kinds of data visualization.\n",
    "\n",
    "We analyzed the per-capita Gross Domestic Product of 179 nations over the time period of 1970-2022, including year-over-year growth analysis.\n",
    "\n",
    "We found that the average total growth of a nation in our dataset during this time period was just shy of 2,000%, or almost 20x growth. The average yearly growth rate was 6.14%\n",
    "\n",
    "A handful of extremely successful countries demonstrated much higher growth, most notably the Republic of Korea, which reported an impressive total growth of 11,595%.\n",
    "\n",
    "Future improvements to this analysis could include adjustment for inflation, addition of region tags for geographic analysis, and incorporation of the countries we removed due to missing data."
   ]
  }
 ],
 "metadata": {
  "kernelspec": {
   "display_name": "Python 3 (ipykernel)",
   "language": "python",
   "name": "python3"
  },
  "language_info": {
   "codemirror_mode": {
    "name": "ipython",
    "version": 3
   },
   "file_extension": ".py",
   "mimetype": "text/x-python",
   "name": "python",
   "nbconvert_exporter": "python",
   "pygments_lexer": "ipython3",
   "version": "3.11.7"
  }
 },
 "nbformat": 4,
 "nbformat_minor": 5
}
